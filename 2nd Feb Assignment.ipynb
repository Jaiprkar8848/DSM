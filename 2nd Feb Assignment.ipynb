{
 "cells": [
  {
   "cell_type": "markdown",
   "id": "185223a5-27dd-475c-b257-e5c5d5418827",
   "metadata": {},
   "source": [
    "# Assignment 3"
   ]
  },
  {
   "cell_type": "markdown",
   "id": "e6000876-679f-4219-9d37-5b7904b4110a",
   "metadata": {},
   "source": [
    "#### Q1. What are the characteristics of the tuples? Is tuple immutable?"
   ]
  },
  {
   "cell_type": "markdown",
   "id": "b1639c5d-7e36-44f1-8eb8-2c4191ccb679",
   "metadata": {},
   "source": [
    "#### Ans.The major characteristics of tuples are:\n",
    "* Tuples is a collection of items.\n",
    "* In tuples, items are unordered.\n",
    "* Tuples are immutable\n",
    "* Tuple items are indexable\n",
    "* Tuple allows duplicate values"
   ]
  },
  {
   "cell_type": "markdown",
   "id": "18470d3c-89ad-4fe8-8099-e05f00d0cccc",
   "metadata": {},
   "source": [
    "#### Q2. What are the two tuple methods in python? Give an example of each method. Give a reason why tuples have only two in-built methods as compared to Lists."
   ]
  },
  {
   "cell_type": "markdown",
   "id": "27bff3a6-54c1-4e48-8205-49a53bb6197e",
   "metadata": {},
   "source": [
    "#### Ans. The two tuple methods in python are count and index The tuples has only two in-built methods as compared to lists because tuples are immutable or unchangeable."
   ]
  },
  {
   "cell_type": "code",
   "execution_count": 1,
   "id": "474f9596-6102-44ba-b50d-5ef502b2abc5",
   "metadata": {},
   "outputs": [],
   "source": [
    "tuple1=(1,2,3,'jp',3,'vj',3.5,True)"
   ]
  },
  {
   "cell_type": "code",
   "execution_count": 2,
   "id": "4dde07bd-e292-4427-9c21-78acba39a773",
   "metadata": {},
   "outputs": [
    {
     "data": {
      "text/plain": [
       "(1, 2, 3, 'jp', 3, 'vj', 3.5, True)"
      ]
     },
     "execution_count": 2,
     "metadata": {},
     "output_type": "execute_result"
    }
   ],
   "source": [
    "tuple1"
   ]
  },
  {
   "cell_type": "code",
   "execution_count": 3,
   "id": "281e272d-d1e7-40bb-8207-941efa8f7d37",
   "metadata": {},
   "outputs": [
    {
     "data": {
      "text/plain": [
       "2"
      ]
     },
     "execution_count": 3,
     "metadata": {},
     "output_type": "execute_result"
    }
   ],
   "source": [
    "#Example of count method in tuple\n",
    "#count the number of 3 in tuple1\n",
    "tuple1.count(3)"
   ]
  },
  {
   "cell_type": "code",
   "execution_count": 4,
   "id": "0743d572-cbb0-4338-8dfc-294b98b3eae5",
   "metadata": {},
   "outputs": [
    {
     "data": {
      "text/plain": [
       "2"
      ]
     },
     "execution_count": 4,
     "metadata": {},
     "output_type": "execute_result"
    }
   ],
   "source": [
    "#Example of index method in tuple\n",
    "#find the index of value 3 in tuple1\n",
    "tuple1.index(3)"
   ]
  },
  {
   "cell_type": "markdown",
   "id": "73a7f25e-37d0-4263-bdf9-10c167888599",
   "metadata": {},
   "source": [
    "#### Q3. Which collection datatypes in python do not allow duplicate items? Write a code using a set to remove duplicates from the given list.\n",
    "* List = [1, 1, 1, 2, 1, 3, 1, 4, 2, 1, 2, 2, 2, 3, 2, 4, 3, 1, 3, 2, 3, 3, 3, 4, 4, 1, 4, 2, 4, 3, 4, 4]"
   ]
  },
  {
   "cell_type": "markdown",
   "id": "89130ea1-8b96-4aed-a73e-f89ad4481025",
   "metadata": {},
   "source": [
    "#### Ans.Set in python don't allows duplicate items."
   ]
  },
  {
   "cell_type": "code",
   "execution_count": 5,
   "id": "8639afd3-d4aa-445d-8be1-7c8d7e8a8e80",
   "metadata": {},
   "outputs": [],
   "source": [
    "# code using a set to remove duplicates from the given list.\n",
    "List1 = [1, 1, 1, 2, 1, 3, 1, 4, 2, 1, 2, 2, 2, 3, 2, 4, 3, 1, 3, 2, 3, 3, 3, 4, 4, 1, 4, 2, 4, 3, 4, 4]"
   ]
  },
  {
   "cell_type": "code",
   "execution_count": 6,
   "id": "5cc6f379-6882-4d9b-b994-090ee175d400",
   "metadata": {},
   "outputs": [
    {
     "data": {
      "text/plain": [
       "{1, 2, 3, 4}"
      ]
     },
     "execution_count": 6,
     "metadata": {},
     "output_type": "execute_result"
    }
   ],
   "source": [
    "set(List1)"
   ]
  },
  {
   "cell_type": "markdown",
   "id": "1ed5284a-7afd-45ec-a751-ed9cd573d8d6",
   "metadata": {},
   "source": [
    "#### Q4. Explain the difference between the union() and update() methods for a set. Give an example of each method."
   ]
  },
  {
   "cell_type": "markdown",
   "id": "bac5a109-2685-4c38-95ed-5159426169f0",
   "metadata": {},
   "source": [
    "#### Ans.The difference between union() and update method for a set are:\n",
    "* Union method returns the all the elements present in set1 and set2 without updating set1 and set2.\n",
    "* Update method add the value of a set to another set and update the set."
   ]
  },
  {
   "cell_type": "code",
   "execution_count": 8,
   "id": "c3e2bdf7-ecd5-4f88-8079-e8b8350c150e",
   "metadata": {},
   "outputs": [],
   "source": [
    "set1={1,2,3,4}\n",
    "set2={2,3,4,5}"
   ]
  },
  {
   "cell_type": "code",
   "execution_count": 9,
   "id": "782aeff0-ca5f-4ec8-a2a9-9c01f02f4ddf",
   "metadata": {},
   "outputs": [
    {
     "data": {
      "text/plain": [
       "{1, 2, 3, 4}"
      ]
     },
     "execution_count": 9,
     "metadata": {},
     "output_type": "execute_result"
    }
   ],
   "source": [
    "set1"
   ]
  },
  {
   "cell_type": "code",
   "execution_count": 10,
   "id": "4f31e673-0897-4a97-81b2-3d22e0d63046",
   "metadata": {},
   "outputs": [
    {
     "data": {
      "text/plain": [
       "{2, 3, 4, 5}"
      ]
     },
     "execution_count": 10,
     "metadata": {},
     "output_type": "execute_result"
    }
   ],
   "source": [
    "set2"
   ]
  },
  {
   "cell_type": "code",
   "execution_count": 11,
   "id": "6b000245-4ed9-4858-a1b6-bdf885c4afde",
   "metadata": {},
   "outputs": [
    {
     "data": {
      "text/plain": [
       "{1, 2, 3, 4, 5}"
      ]
     },
     "execution_count": 11,
     "metadata": {},
     "output_type": "execute_result"
    }
   ],
   "source": [
    "#Example of union() method\n",
    "set1.union(set2)"
   ]
  },
  {
   "cell_type": "code",
   "execution_count": 12,
   "id": "17522b4a-4b82-4507-9d79-09889d0c2497",
   "metadata": {},
   "outputs": [
    {
     "data": {
      "text/plain": [
       "{1, 2, 3, 4}"
      ]
     },
     "execution_count": 12,
     "metadata": {},
     "output_type": "execute_result"
    }
   ],
   "source": [
    "set1"
   ]
  },
  {
   "cell_type": "code",
   "execution_count": 13,
   "id": "c3c24aaa-a54c-4200-8b3e-53f90696b7d4",
   "metadata": {},
   "outputs": [
    {
     "data": {
      "text/plain": [
       "{2, 3, 4, 5}"
      ]
     },
     "execution_count": 13,
     "metadata": {},
     "output_type": "execute_result"
    }
   ],
   "source": [
    "set2"
   ]
  },
  {
   "cell_type": "code",
   "execution_count": 17,
   "id": "1c9466c0-3b9f-4c51-a9e6-06cb11e37b43",
   "metadata": {},
   "outputs": [],
   "source": [
    "#Example of update() method\n",
    "set1.update(set2) #update value of set1"
   ]
  },
  {
   "cell_type": "code",
   "execution_count": 18,
   "id": "353e7d5a-5755-4e45-9bbc-7997946b200a",
   "metadata": {},
   "outputs": [
    {
     "data": {
      "text/plain": [
       "{1, 2, 3, 4, 5}"
      ]
     },
     "execution_count": 18,
     "metadata": {},
     "output_type": "execute_result"
    }
   ],
   "source": [
    "set1"
   ]
  },
  {
   "cell_type": "code",
   "execution_count": 19,
   "id": "ec527f01-1740-4d78-9927-6ef3d166d393",
   "metadata": {},
   "outputs": [
    {
     "data": {
      "text/plain": [
       "{2, 3, 4, 5}"
      ]
     },
     "execution_count": 19,
     "metadata": {},
     "output_type": "execute_result"
    }
   ],
   "source": [
    "set2"
   ]
  },
  {
   "cell_type": "markdown",
   "id": "e160281a-2fa5-4573-9f1e-17eb372f3553",
   "metadata": {},
   "source": [
    "#### Q5. What is a dictionary? Give an example. Also, state whether a dictionary is ordered or unordered."
   ]
  },
  {
   "cell_type": "markdown",
   "id": "10015432-5995-47ba-8851-64f07a2aa63c",
   "metadata": {},
   "source": [
    "#### Ans.The dicitonary is a datastructure in python which stores the collection of key-value pairs. The dictionary is ordered and not allow duplicates."
   ]
  },
  {
   "cell_type": "code",
   "execution_count": 20,
   "id": "7a6e9fcb-cbea-4fc6-a793-6df5d89baff3",
   "metadata": {},
   "outputs": [],
   "source": [
    "#Example of dictionary\n",
    "#create a dictionary d\n",
    "d={'Name':'Jp','Class':'3rd year','Number':37628767}"
   ]
  },
  {
   "cell_type": "code",
   "execution_count": 21,
   "id": "bc77a5ae-477b-40ff-907b-dfc870e164cc",
   "metadata": {},
   "outputs": [
    {
     "data": {
      "text/plain": [
       "dict"
      ]
     },
     "execution_count": 21,
     "metadata": {},
     "output_type": "execute_result"
    }
   ],
   "source": [
    "type(d)"
   ]
  },
  {
   "cell_type": "markdown",
   "id": "b9766e51-ff74-416b-8df0-0ab0a272e059",
   "metadata": {},
   "source": [
    "#### Q6. Can we create a nested dictionary? If so, please give an example by creating a simple one-level nested dictionary."
   ]
  },
  {
   "cell_type": "markdown",
   "id": "d2bc4c4a-d797-48a0-a84a-719c132e8bef",
   "metadata": {},
   "source": [
    "#### Ans.Yes we can create a nested dictionary."
   ]
  },
  {
   "cell_type": "code",
   "execution_count": 22,
   "id": "a97c6ba4-b5d7-4e1d-bf0f-25621854c34d",
   "metadata": {},
   "outputs": [],
   "source": [
    "#Example of nested dictionary\n",
    "#create a nested dictionary d1\n",
    "d1={'name':{'First':'Jp','Last':'Karwa'},'class':{'year':3,'semester':5}}"
   ]
  },
  {
   "cell_type": "code",
   "execution_count": 23,
   "id": "30d57c00-5af8-487f-826a-aea741062134",
   "metadata": {},
   "outputs": [
    {
     "data": {
      "text/plain": [
       "dict"
      ]
     },
     "execution_count": 23,
     "metadata": {},
     "output_type": "execute_result"
    }
   ],
   "source": [
    "type(d1)"
   ]
  },
  {
   "cell_type": "markdown",
   "id": "22797d51-8690-47dd-8052-8851df1f8d70",
   "metadata": {},
   "source": [
    "#### Q7. Using setdefault() method, create key named topics in the given dictionary and also add the value of the key as this list ['Python', 'Machine Learning’, 'Deep Learning']\n",
    "* dict1 = {'language' : 'Python', 'course': 'Data Science Masters'}"
   ]
  },
  {
   "cell_type": "code",
   "execution_count": 24,
   "id": "8f897ffe-2714-455b-b4c0-02bb3f674537",
   "metadata": {},
   "outputs": [],
   "source": [
    "#given dictionary\n",
    "dict1 = {'language' : 'Python', 'course': 'Data Science Masters'}"
   ]
  },
  {
   "cell_type": "code",
   "execution_count": 27,
   "id": "b63b4c8d-1966-449a-ae0c-8cfbcd29c16e",
   "metadata": {},
   "outputs": [
    {
     "data": {
      "text/plain": [
       "['Python', 'Machine Learning', 'Deep Learning']"
      ]
     },
     "execution_count": 27,
     "metadata": {},
     "output_type": "execute_result"
    }
   ],
   "source": [
    "dict1.setdefault('topics',['Python','Machine Learning','Deep Learning'])"
   ]
  },
  {
   "cell_type": "code",
   "execution_count": 28,
   "id": "50669dea-a419-4662-9f10-0e2aa25e4314",
   "metadata": {},
   "outputs": [
    {
     "data": {
      "text/plain": [
       "{'language': 'Python',\n",
       " 'course': 'Data Science Masters',\n",
       " 'topics': ['Python', 'Machine Learning', 'Deep Learning']}"
      ]
     },
     "execution_count": 28,
     "metadata": {},
     "output_type": "execute_result"
    }
   ],
   "source": [
    "dict1"
   ]
  },
  {
   "cell_type": "markdown",
   "id": "ed47f3d6-4ef3-4cbc-b1de-c44fa73c337b",
   "metadata": {},
   "source": [
    "#### Q8. What are the three view objects in dictionaries? Use the three in-built methods in python to display these three view objects for the given dictionary.\n",
    "* dict1 = {'Sport': 'Cricket' , 'Teams': ['India', 'Australia', 'England', 'South Africa', 'Sri Lanka', 'New Zealand']}"
   ]
  },
  {
   "cell_type": "markdown",
   "id": "f1e566a9-ce5a-4f95-ac89-b325f351e0fb",
   "metadata": {},
   "source": [
    "#### Ans.The three view objects in dictionaries are:\n",
    "* Keys\n",
    "* Values\n",
    "* Items"
   ]
  },
  {
   "cell_type": "code",
   "execution_count": 29,
   "id": "f005e898-ecfa-464c-800d-03c3116cb67b",
   "metadata": {},
   "outputs": [],
   "source": [
    "dict1 = {'Sport': 'Cricket' , 'Teams': ['India', 'Australia', 'England', 'South Africa', 'Sri Lanka', 'New Zealand']}"
   ]
  },
  {
   "cell_type": "code",
   "execution_count": 30,
   "id": "45551957-1707-46ef-96bd-c2e5d5bb821f",
   "metadata": {},
   "outputs": [
    {
     "data": {
      "text/plain": [
       "dict_keys(['Sport', 'Teams'])"
      ]
     },
     "execution_count": 30,
     "metadata": {},
     "output_type": "execute_result"
    }
   ],
   "source": [
    "#Method to display keys\n",
    "dict1.keys()"
   ]
  },
  {
   "cell_type": "code",
   "execution_count": 31,
   "id": "bbfba8d3-3cd4-4b8a-bf81-d15ec50ea7f9",
   "metadata": {},
   "outputs": [
    {
     "data": {
      "text/plain": [
       "dict_values(['Cricket', ['India', 'Australia', 'England', 'South Africa', 'Sri Lanka', 'New Zealand']])"
      ]
     },
     "execution_count": 31,
     "metadata": {},
     "output_type": "execute_result"
    }
   ],
   "source": [
    "#Method to displat values\n",
    "dict1.values()"
   ]
  },
  {
   "cell_type": "code",
   "execution_count": 32,
   "id": "c92cb6dc-7b13-4159-826e-400d5bdfd2d2",
   "metadata": {},
   "outputs": [
    {
     "data": {
      "text/plain": [
       "dict_items([('Sport', 'Cricket'), ('Teams', ['India', 'Australia', 'England', 'South Africa', 'Sri Lanka', 'New Zealand'])])"
      ]
     },
     "execution_count": 32,
     "metadata": {},
     "output_type": "execute_result"
    }
   ],
   "source": [
    "#Method to displat items\n",
    "dict1.items()"
   ]
  }
 ],
 "metadata": {
  "kernelspec": {
   "display_name": "Python 3 (ipykernel)",
   "language": "python",
   "name": "python3"
  },
  "language_info": {
   "codemirror_mode": {
    "name": "ipython",
    "version": 3
   },
   "file_extension": ".py",
   "mimetype": "text/x-python",
   "name": "python",
   "nbconvert_exporter": "python",
   "pygments_lexer": "ipython3",
   "version": "3.10.8"
  }
 },
 "nbformat": 4,
 "nbformat_minor": 5
}
