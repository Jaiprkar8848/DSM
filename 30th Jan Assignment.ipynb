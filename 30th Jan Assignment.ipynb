{
 "cells": [
  {
   "cell_type": "markdown",
   "id": "dfda30e7-2484-4e58-821a-60ef334442b2",
   "metadata": {},
   "source": [
    "# Assignment 2"
   ]
  },
  {
   "cell_type": "markdown",
   "id": "05caeb85-2307-41f9-ae17-5cc004a20835",
   "metadata": {},
   "source": [
    "#### Q1.Write a program to accept percentage from user and display the grade according to following criteria: \n",
    "|     Marks     | Grade |\n",
    "|---------------|-------|\n",
    "| >90           |   A   |\n",
    "|>80 and <=90   |   B   |\n",
    "|>=60 and <=80  |   C   |\n",
    "|below 60       |   D   |\n"
   ]
  },
  {
   "cell_type": "code",
   "execution_count": 2,
   "id": "ab7556fd-530f-45df-998a-43d6d45b8020",
   "metadata": {},
   "outputs": [
    {
     "name": "stdin",
     "output_type": "stream",
     "text": [
      "Enter the marks 90\n"
     ]
    },
    {
     "name": "stdout",
     "output_type": "stream",
     "text": [
      "B\n"
     ]
    }
   ],
   "source": [
    "marks=int(input('Enter the marks'))\n",
    "\n",
    "if marks>90:\n",
    "    print('A')\n",
    "elif marks>80 and marks<=90:\n",
    "    print('B')\n",
    "elif marks>=60 and marks<=80:\n",
    "    print('C')\n",
    "else:\n",
    "    print('D')"
   ]
  },
  {
   "cell_type": "markdown",
   "id": "e4dae968-836f-4448-bbb1-7212d6ef928b",
   "metadata": {},
   "source": [
    "#### Q2.Write a program to accept cost price of a bike and display the road tax to be paid according to following criteria: \n",
    "| Tax | Cost Price(in Rs) |\n",
    "|-----|-------------------|\n",
    "| 15% |    >100000        |\n",
    "| 10% |>50000 and <=100000|\n",
    "| 5%  |    <=50000        |"
   ]
  },
  {
   "cell_type": "code",
   "execution_count": 3,
   "id": "3a7562a3-e752-4f3c-b892-df5c3d8598ee",
   "metadata": {},
   "outputs": [
    {
     "name": "stdin",
     "output_type": "stream",
     "text": [
      "Enter the cost price in Rs. 50000\n"
     ]
    },
    {
     "name": "stdout",
     "output_type": "stream",
     "text": [
      "2500.0\n"
     ]
    }
   ],
   "source": [
    "cost_price=int(input('Enter the cost price in Rs.'))\n",
    "\n",
    "if cost_price>100000:\n",
    "    print(0.15*cost_price)\n",
    "elif cost_price>50000 and cost_price<=100000:\n",
    "    print(0.1*cost_price)\n",
    "else:\n",
    "    print(0.05*cost_price)"
   ]
  },
  {
   "cell_type": "markdown",
   "id": "1a1f2833-5d91-4200-bc92-ce65ae822313",
   "metadata": {},
   "source": [
    "#### Q3.Write a program to accept any city from user and display monuments of that city: \n",
    "| City  |   Monument   |\n",
    "|-------|--------------|\n",
    "| Delhi |   Red Fort   |\n",
    "| Agra  |   Taj Mahal  |\n",
    "|Jaipur |   Hawa Mahal |"
   ]
  },
  {
   "cell_type": "code",
   "execution_count": 4,
   "id": "b3be2cd7-1c0f-467c-9ad5-29c0c9d1571b",
   "metadata": {},
   "outputs": [
    {
     "name": "stdin",
     "output_type": "stream",
     "text": [
      "Enter the city Jaipur\n"
     ]
    },
    {
     "name": "stdout",
     "output_type": "stream",
     "text": [
      "Hawa Mahal\n"
     ]
    }
   ],
   "source": [
    "city=input('Enter the city')\n",
    "\n",
    "if city=='Delhi':\n",
    "    print('Red Fort')\n",
    "if city=='Agra':\n",
    "    print('Taj Mahal')\n",
    "if city=='Jaipur':\n",
    "    print('Hawa Mahal')"
   ]
  },
  {
   "cell_type": "markdown",
   "id": "f9fa15ed-17d4-4215-85dd-803d69e9c053",
   "metadata": {},
   "source": [
    "#### Q4.Check how many time a given number can be divided by 3 before it is less than or equal to 10."
   ]
  },
  {
   "cell_type": "code",
   "execution_count": 5,
   "id": "d44d8048-a114-47c5-9059-b0d422d9fe65",
   "metadata": {},
   "outputs": [
    {
     "name": "stdin",
     "output_type": "stream",
     "text": [
      "Enter the number 36\n"
     ]
    },
    {
     "name": "stdout",
     "output_type": "stream",
     "text": [
      "2\n"
     ]
    }
   ],
   "source": [
    "number=int(input('Enter the number'))\n",
    "times=0\n",
    "while number>10:\n",
    "    if number%3==0:\n",
    "        times=times+1\n",
    "        number=number/3\n",
    "print(times)"
   ]
  },
  {
   "cell_type": "markdown",
   "id": "40c97bd4-d81b-4692-be5e-f05826e2da41",
   "metadata": {},
   "source": [
    "#### Q5.Why and when to use while loop in python give a detailed description with example?\n",
    "#### Ans.We use while loop when we not know about number of iterations. It runs until and unless condition is true"
   ]
  },
  {
   "cell_type": "code",
   "execution_count": 6,
   "id": "3d4a0818-4590-4770-a52d-3959392514fd",
   "metadata": {},
   "outputs": [
    {
     "name": "stdout",
     "output_type": "stream",
     "text": [
      "1\n",
      "2\n",
      "3\n",
      "4\n",
      "5\n",
      "6\n",
      "7\n",
      "8\n",
      "9\n",
      "10\n"
     ]
    }
   ],
   "source": [
    "#example of while loop\n",
    "#print the number from 1 to 10\n",
    "i=1\n",
    "while i<11:\n",
    "    print(i)\n",
    "    i=i+1"
   ]
  },
  {
   "cell_type": "markdown",
   "id": "473c337a-9768-442c-9fd9-dfc11a643e3a",
   "metadata": {},
   "source": [
    "#### Q6.Use nested while loop to print 3 different pattern.\n",
    "#### Ans.The three patterns are"
   ]
  },
  {
   "cell_type": "code",
   "execution_count": 13,
   "id": "824034f7-2651-440b-82ad-3b5e0a25f5b4",
   "metadata": {},
   "outputs": [
    {
     "name": "stdout",
     "output_type": "stream",
     "text": [
      "* * * * * \n",
      "* * * * * \n",
      "* * * * * \n"
     ]
    }
   ],
   "source": [
    "#Pattern 1 - Rectangle pattern\n",
    "rows=3\n",
    "cols=5\n",
    "i=0\n",
    "while i<rows:\n",
    "    j=0\n",
    "    while j<cols:\n",
    "        print('*',end=\" \")\n",
    "        j=j+1\n",
    "    i=i+1\n",
    "    print()"
   ]
  },
  {
   "cell_type": "code",
   "execution_count": 15,
   "id": "4382344f-f31e-4dc1-a924-7fcd9f2bc546",
   "metadata": {},
   "outputs": [
    {
     "name": "stdout",
     "output_type": "stream",
     "text": [
      "* * * * \n",
      "* * * * \n",
      "* * * * \n",
      "* * * * \n"
     ]
    }
   ],
   "source": [
    "#Pattern 2 - Square pattern\n",
    "sides=4\n",
    "i=0\n",
    "while i<sides:\n",
    "    j=0\n",
    "    while j<sides:\n",
    "        print('*',end=\" \")\n",
    "        j=j+1\n",
    "    i=i+1\n",
    "    print()"
   ]
  },
  {
   "cell_type": "code",
   "execution_count": 17,
   "id": "f6fed140-8f28-4afc-a065-db2c7e887faa",
   "metadata": {},
   "outputs": [
    {
     "name": "stdout",
     "output_type": "stream",
     "text": [
      "1 2 3 4 5 \n",
      "1 2 3 4 5 \n",
      "1 2 3 4 5 \n"
     ]
    }
   ],
   "source": [
    "#Pattern 3 - Rectangular number pattern\n",
    "rows=3\n",
    "cols=5\n",
    "i=1\n",
    "while i<=rows:\n",
    "    j=1\n",
    "    while j<=cols:\n",
    "        print(j,end=\" \")\n",
    "        j=j+1\n",
    "    i=i+1\n",
    "    print()"
   ]
  },
  {
   "cell_type": "markdown",
   "id": "333565f3-f063-4519-8f48-d5e5ed21a3b1",
   "metadata": {},
   "source": [
    "#### Q7. Reverse a while loop to display numbers from 10 to 1."
   ]
  },
  {
   "cell_type": "code",
   "execution_count": 19,
   "id": "d17471fb-8af0-4d60-85f7-692bd871d51c",
   "metadata": {},
   "outputs": [
    {
     "name": "stdout",
     "output_type": "stream",
     "text": [
      "10\n",
      "9\n",
      "8\n",
      "7\n",
      "6\n",
      "5\n",
      "4\n",
      "3\n",
      "2\n",
      "1\n"
     ]
    }
   ],
   "source": [
    "i=10\n",
    "while i>0:\n",
    "    print(i)\n",
    "    i=i-1"
   ]
  },
  {
   "cell_type": "markdown",
   "id": "86c442c2-dd3b-40cd-883d-9501ed235002",
   "metadata": {},
   "source": [
    "#### Q8. Reverse a while loop to display numbers from 10 to 1."
   ]
  },
  {
   "cell_type": "code",
   "execution_count": 20,
   "id": "d2300f72-9bd5-402e-90de-b3068cba1898",
   "metadata": {},
   "outputs": [
    {
     "name": "stdout",
     "output_type": "stream",
     "text": [
      "10\n",
      "9\n",
      "8\n",
      "7\n",
      "6\n",
      "5\n",
      "4\n",
      "3\n",
      "2\n",
      "1\n"
     ]
    }
   ],
   "source": [
    "i=10\n",
    "while i>0:\n",
    "    print(i)\n",
    "    i=i-1"
   ]
  }
 ],
 "metadata": {
  "kernelspec": {
   "display_name": "Python 3 (ipykernel)",
   "language": "python",
   "name": "python3"
  },
  "language_info": {
   "codemirror_mode": {
    "name": "ipython",
    "version": 3
   },
   "file_extension": ".py",
   "mimetype": "text/x-python",
   "name": "python",
   "nbconvert_exporter": "python",
   "pygments_lexer": "ipython3",
   "version": "3.10.8"
  }
 },
 "nbformat": 4,
 "nbformat_minor": 5
}
