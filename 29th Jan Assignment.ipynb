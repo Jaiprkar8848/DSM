{
 "cells": [
  {
   "cell_type": "markdown",
   "id": "81b1d8d2-e77b-48f1-8d71-d3f84d108a3a",
   "metadata": {},
   "source": [
    "# Assignment1"
   ]
  },
  {
   "cell_type": "markdown",
   "id": "2ca56684-3ca5-4a3a-835f-ff869ce2ea0a",
   "metadata": {},
   "source": [
    "##### Q1.Who developed python programming language\n",
    "##### Ans. Guido Van Rossum"
   ]
  },
  {
   "cell_type": "markdown",
   "id": "f2307087-7348-4985-8ff4-c696d6b41649",
   "metadata": {},
   "source": [
    "##### Q2.Which type of programming does python support?\n",
    "##### Ans. Object oriented programming"
   ]
  },
  {
   "cell_type": "markdown",
   "id": "a6e36fa5-b197-46b5-8268-be8758e225ad",
   "metadata": {},
   "source": [
    "##### Q3.Is python case sensitive while dealing with identifiers?\n",
    "##### Ans. Yes,python is case sensitive"
   ]
  },
  {
   "cell_type": "markdown",
   "id": "6a459939-a2f3-43e8-a55e-81e29db36b79",
   "metadata": {},
   "source": [
    "##### Q4.What is the correct extension of python file?\n",
    "##### Ans. The correct extension is .py "
   ]
  },
  {
   "cell_type": "markdown",
   "id": "d18c7a8f-a95a-4069-8fde-764376632c35",
   "metadata": {},
   "source": [
    "##### Q5.Is python compiled or interpreted?\n",
    "##### Ans. Python is an interpreted language"
   ]
  },
  {
   "cell_type": "markdown",
   "id": "d5013347-c78e-4176-a7b8-11ddb1258c24",
   "metadata": {},
   "source": [
    "##### Q6.Name a few blocks of code define in python language?\n",
    "##### Ans. There are 3 blocks of code:\n",
    "#####      1.Module\n",
    "#####      2.Function body\n",
    "#####      3.Class definition"
   ]
  },
  {
   "cell_type": "markdown",
   "id": "3a3759a7-cf39-4819-b121-22850cb1180f",
   "metadata": {
    "tags": []
   },
   "source": [
    "##### Q7.State a character used to give single line comment in python?\n",
    "##### Ans. Hash(#)"
   ]
  },
  {
   "cell_type": "markdown",
   "id": "40427683-f393-4464-8ed6-4da121bf1909",
   "metadata": {},
   "source": [
    "##### Q8.Mention the functions which can help us to find the version of python in which we are currently working on?\n",
    "##### Ans. python_version()"
   ]
  },
  {
   "cell_type": "markdown",
   "id": "b4efae25-0fd3-4373-8032-42e908c837b8",
   "metadata": {},
   "source": [
    "##### Q9.Python support the creation of anonymous function at runtime,using a construct is called ________?\n",
    "##### Ans. Lambda"
   ]
  },
  {
   "cell_type": "markdown",
   "id": "479c7896-d5be-4a19-9bbb-99b1d88d1cb7",
   "metadata": {},
   "source": [
    "##### Q10.What does pip stand for in python?\n",
    "##### Ans. PIP stand for Preferred Installer Program"
   ]
  },
  {
   "cell_type": "markdown",
   "id": "f3675191-b235-4d73-8b24-07ba07528449",
   "metadata": {},
   "source": [
    "##### Q11.Mention a few built-in functions in python?\n",
    "##### Ans. The few built-in functions in python are len(),dict(),list() etc."
   ]
  },
  {
   "cell_type": "markdown",
   "id": "6b6d39e1-c42b-4fc9-bfc2-b91f0d0f1405",
   "metadata": {},
   "source": [
    "##### Q12.What are the maximum possible length of identifier in python?\n",
    "##### Ans. 79 characters"
   ]
  },
  {
   "cell_type": "markdown",
   "id": "56e4fbd1-ad31-41a0-8028-47d8745c773a",
   "metadata": {},
   "source": [
    "##### Q13.What are the benefits of using python?\n",
    "##### Ans. The benefits of using python are:\n",
    "* Python is general-purpose,interpreted language that offers code reliability.\n",
    "* It is easy to learn and understandable by a beginner.\n",
    "* Python offers a wide range of that can be used across various applications.\n",
    "* Python used in various fields such as data science, web development, game development etc."
   ]
  },
  {
   "cell_type": "markdown",
   "id": "ebb46f0c-41c4-4bf1-b24a-203f26961a55",
   "metadata": {},
   "source": [
    "##### Q14.How is memory managed in python?\n",
    "##### Ans. Memory management in python involves a private heap containing all python objects and data structures. The management of  this private heap is ensured internally by python memory manager."
   ]
  },
  {
   "cell_type": "markdown",
   "id": "52ed828f-4da1-4580-ab04-1bd8ac473ef5",
   "metadata": {},
   "source": [
    "##### Q15.How to install python in window and set path variables?\n",
    "##### Ans. There are following steps for this:\n",
    "* First we have to python setup.exe from official website and installed it in our system.\n",
    "* Second we need to where python is installed and copy the path of file location.\n",
    "* Third we have to search for 'Environment Variables' and open that.\n",
    "* Fourth we have to click 'Environment Variables' button and there we get two categories as 'User' and 'System'.\n",
    "* Fifth we have to New button in user section and Python as variable name copied path as variable value and click OK. That's done!"
   ]
  },
  {
   "cell_type": "markdown",
   "id": "8713ce28-2b47-4880-a59e-0c2a89783813",
   "metadata": {},
   "source": [
    "##### Q16.Is indentation required in python?\n",
    "##### Ans. Yes, indentation in python is required."
   ]
  }
 ],
 "metadata": {
  "kernelspec": {
   "display_name": "Python 3 (ipykernel)",
   "language": "python",
   "name": "python3"
  },
  "language_info": {
   "codemirror_mode": {
    "name": "ipython",
    "version": 3
   },
   "file_extension": ".py",
   "mimetype": "text/x-python",
   "name": "python",
   "nbconvert_exporter": "python",
   "pygments_lexer": "ipython3",
   "version": "3.10.8"
  }
 },
 "nbformat": 4,
 "nbformat_minor": 5
}
